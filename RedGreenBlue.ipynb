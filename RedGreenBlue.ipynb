{
 "cells": [
  {
   "cell_type": "markdown",
   "metadata": {},
   "source": [
    "For this project, I wanted to blend different genres/styles of poetry together, similar to how colors can be mixed. I picked three emotions: melancholic, lust, and peaceful, and assigned them corresponding colors of blue, red, and green. I wanted to choose a selection of different poems written by different authors that encapsulated each emotion, and use Tracery to output text containing words from those selections. For my melancholic 'blue' text, I chose \"The City in the Sea\" by Edgar Allan Poe, and \"Ode on Melancholy\" by John Keats, both of which were quite sorrowful. For my 'red' text, I chose \"Dream-Land\" and \"Romance\", both of which were written by Edgar Allan Poe (I'm not too well versed in poetry, and Poe was one of the only few poets I was familiar with). For my 'green' text, I chose \"Easter Morning\" by AR Ammons, a very visual depiction of the relationship between nature and the inner self."
   ]
  },
  {
   "cell_type": "code",
   "execution_count": 66,
   "metadata": {},
   "outputs": [],
   "source": [
    "import spacy"
   ]
  },
  {
   "cell_type": "code",
   "execution_count": 67,
   "metadata": {},
   "outputs": [],
   "source": [
    "nlp = spacy.load('en_core_web_md')"
   ]
  },
  {
   "cell_type": "markdown",
   "metadata": {},
   "source": [
    "After importing spaCy and the english model, I had to store my chosen poems into the different categories. I had to be wary I didn't create double of the mixed colors (ex: redblue and bluered)."
   ]
  },
  {
   "cell_type": "code",
   "execution_count": 68,
   "metadata": {},
   "outputs": [],
   "source": [
    "bluetext = open(\"blue.txt\").read()"
   ]
  },
  {
   "cell_type": "code",
   "execution_count": 69,
   "metadata": {},
   "outputs": [],
   "source": [
    "redtext = open(\"red.txt\").read()"
   ]
  },
  {
   "cell_type": "code",
   "execution_count": 70,
   "metadata": {},
   "outputs": [],
   "source": [
    "greentext = open(\"green.txt\").read()"
   ]
  },
  {
   "cell_type": "code",
   "execution_count": 71,
   "metadata": {},
   "outputs": [],
   "source": [
    "bluedoc = nlp(bluetext)"
   ]
  },
  {
   "cell_type": "code",
   "execution_count": 72,
   "metadata": {},
   "outputs": [],
   "source": [
    "reddoc = nlp(redtext)"
   ]
  },
  {
   "cell_type": "code",
   "execution_count": 73,
   "metadata": {},
   "outputs": [],
   "source": [
    "greendoc = nlp(greentext)"
   ]
  },
  {
   "cell_type": "code",
   "execution_count": 74,
   "metadata": {},
   "outputs": [],
   "source": [
    "redbluedoc = nlp(redtext, bluetext)"
   ]
  },
  {
   "cell_type": "code",
   "execution_count": 75,
   "metadata": {},
   "outputs": [],
   "source": [
    "redgreendoc = nlp(redtext, greentext)"
   ]
  },
  {
   "cell_type": "code",
   "execution_count": 76,
   "metadata": {},
   "outputs": [],
   "source": [
    "greenbluedoc = nlp(bluetext, greentext)"
   ]
  },
  {
   "cell_type": "markdown",
   "metadata": {},
   "source": [
    "I created a function for each color/emotion, and followed the Tracery tutorial (over and over again) to parse through the documents and store the words that were necessary to form coherent English sentences (namely adjectives, nouns, prepositional phrases, and sentence subjects). Then, following the tutorial, I created the grammatical rules for the word structures I had previously stored. "
   ]
  },
  {
   "cell_type": "code",
   "execution_count": 77,
   "metadata": {},
   "outputs": [],
   "source": [
    "def redParse():\n",
    "    def flatten_subtree(st):\n",
    "        return ''.join([w.text_with_ws for w in list(st)]).strip()\n",
    "    words = [w for w in list(reddoc) if w.is_alpha]\n",
    "    subjectsRed = [flatten_subtree(word.subtree).replace(\"\\n\", \" \")\n",
    "        for word in reddoc if word.dep_ in ('nsubj', 'nsubjpass')]\n",
    "    past_tense_verbsRed = [word.text for word in words if word.tag_ == 'VBD' and word.lemma_ != 'be']\n",
    "    adjectivesRed = [word.text for word in words if word.tag_.startswith('JJ')]\n",
    "    nounsRed = [word.text for word in words if word.tag_.startswith('NN')]\n",
    "    prep_phrasesRed = [flatten_subtree(word.subtree).replace(\"\\n\", \" \")\n",
    "        for word in reddoc if word.dep_ == 'prep']\n",
    "    rulesRed = {\n",
    "    \"origin\": [\n",
    "        \"#subject.capitalize# #predicate#.\",\n",
    "        \"#subject.capitalize# #predicate#.\",\n",
    "        \"#prepphrase.capitalize#, #subject# #predicate#.\"\n",
    "    ],\n",
    "    \"predicate\": [\n",
    "        \"#verb#\",\n",
    "        \"#verb# #nounphrase#\",\n",
    "        \"#verb# #prepphrase#\"\n",
    "    ],\n",
    "    \"nounphrase\": [\n",
    "        \"the #noun#\",\n",
    "        \"the #adj# #noun#\",\n",
    "        \"the #noun# #prepphrase#\",\n",
    "        \"the #noun# and the #noun#\",\n",
    "        \"#noun.a#\",\n",
    "        \"#adj.a# #noun#\",\n",
    "        \"the #noun# that #predicate#\"\n",
    "    ],\n",
    "    \"subject\": subjectsRed,\n",
    "    \"verb\": past_tense_verbsRed,\n",
    "    \"noun\": nounsRed,\n",
    "    \"adj\": adjectivesRed,\n",
    "    \"prepphrase\": prep_phrasesRed\n",
    "    }\n",
    "    grammarRed = tracery.Grammar(rulesRed)\n",
    "    grammarRed.add_modifiers(base_english)\n",
    "    grammarRed.flatten(\"#origin#\")\n",
    "    \n",
    "    from textwrap import fill\n",
    "    output = \" \".join([grammarRed.flatten(\"#origin#\") for i in range(12)])\n",
    "    print(fill(output, 60))"
   ]
  },
  {
   "cell_type": "code",
   "execution_count": 78,
   "metadata": {},
   "outputs": [],
   "source": [
    "def blueParse():\n",
    "    def flatten_subtree(st):\n",
    "        return ''.join([w.text_with_ws for w in list(st)]).strip()\n",
    "    words = [w for w in list(bluedoc) if w.is_alpha]\n",
    "    subjectsBlue = [flatten_subtree(word.subtree).replace(\"\\n\", \" \")\n",
    "        for word in bluedoc if word.dep_ in ('nsubj', 'nsubjpass')]\n",
    "    past_tense_verbsBlue = [word.text for word in words if word.tag_ == 'VBD' and word.lemma_ != 'be']\n",
    "    adjectivesBlue = [word.text for word in words if word.tag_.startswith('JJ')]\n",
    "    nounsBlue = [word.text for word in words if word.tag_.startswith('NN')]\n",
    "    prep_phrasesBlue = [flatten_subtree(word.subtree).replace(\"\\n\", \" \")\n",
    "        for word in bluedoc if word.dep_ == 'prep']\n",
    "    rulesBlue = {\n",
    "    \"origin\": [\n",
    "        \"#subject.capitalize# #predicate#.\",\n",
    "        \"#subject.capitalize# #predicate#.\",\n",
    "        \"#prepphrase.capitalize#, #subject# #predicate#.\"\n",
    "    ],\n",
    "    \"predicate\": [\n",
    "        \"#verb#\",\n",
    "        \"#verb# #nounphrase#\",\n",
    "        \"#verb# #prepphrase#\"\n",
    "    ],\n",
    "    \"nounphrase\": [\n",
    "        \"the #noun#\",\n",
    "        \"the #adj# #noun#\",\n",
    "        \"the #noun# #prepphrase#\",\n",
    "        \"the #noun# and the #noun#\",\n",
    "        \"#noun.a#\",\n",
    "        \"#adj.a# #noun#\",\n",
    "        \"the #noun# that #predicate#\"\n",
    "    ],\n",
    "    \"subject\": subjectsBlue,\n",
    "    \"verb\": past_tense_verbsBlue,\n",
    "    \"noun\": nounsBlue,\n",
    "    \"adj\": adjectivesBlue,\n",
    "    \"prepphrase\": prep_phrasesBlue\n",
    "    }\n",
    "    grammarBlue = tracery.Grammar(rulesBlue)\n",
    "    grammarBlue.add_modifiers(base_english)\n",
    "    grammarBlue.flatten(\"#origin#\")\n",
    "    \n",
    "    from textwrap import fill\n",
    "    output = \" \".join([grammarBlue.flatten(\"#origin#\") for i in range(12)])\n",
    "    print(fill(output, 60))"
   ]
  },
  {
   "cell_type": "code",
   "execution_count": 79,
   "metadata": {},
   "outputs": [],
   "source": [
    "def greenParse():\n",
    "    def flatten_subtree(st):\n",
    "        return ''.join([w.text_with_ws for w in list(st)]).strip()\n",
    "    words = [w for w in list(greendoc) if w.is_alpha]\n",
    "    subjectsGreen = [flatten_subtree(word.subtree).replace(\"\\n\", \" \")\n",
    "        for word in greendoc if word.dep_ in ('nsubj', 'nsubjpass')]\n",
    "    past_tense_verbsGreen = [word.text for word in words if word.tag_ == 'VBD' and word.lemma_ != 'be']\n",
    "    adjectivesGreen = [word.text for word in words if word.tag_.startswith('JJ')]\n",
    "    nounsGreen = [word.text for word in words if word.tag_.startswith('NN')]\n",
    "    prep_phrasesGreen = [flatten_subtree(word.subtree).replace(\"\\n\", \" \")\n",
    "        for word in greendoc if word.dep_ == 'prep']\n",
    "    rulesGreen = {\n",
    "    \"origin\": [\n",
    "        \"#subject.capitalize# #predicate#.\",\n",
    "        \"#subject.capitalize# #predicate#.\",\n",
    "        \"#prepphrase.capitalize#, #subject# #predicate#.\"\n",
    "    ],\n",
    "    \"predicate\": [\n",
    "        \"#verb#\",\n",
    "        \"#verb# #nounphrase#\",\n",
    "        \"#verb# #prepphrase#\"\n",
    "    ],\n",
    "    \"nounphrase\": [\n",
    "        \"the #noun#\",\n",
    "        \"the #adj# #noun#\",\n",
    "        \"the #noun# #prepphrase#\",\n",
    "        \"the #noun# and the #noun#\",\n",
    "        \"#noun.a#\",\n",
    "        \"#adj.a# #noun#\",\n",
    "        \"the #noun# that #predicate#\"\n",
    "    ],\n",
    "    \"subject\": subjectsGreen,\n",
    "    \"verb\": past_tense_verbsGreen,\n",
    "    \"noun\": nounsGreen,\n",
    "    \"adj\": adjectivesGreen,\n",
    "    \"prepphrase\": prep_phrasesGreen\n",
    "    }\n",
    "    grammarGreen = tracery.Grammar(rulesGreen)\n",
    "    grammarGreen.add_modifiers(base_english)\n",
    "    grammarGreen.flatten(\"#origin#\")\n",
    "    \n",
    "    from textwrap import fill\n",
    "    output = \" \".join([grammarGreen.flatten(\"#origin#\") for i in range(12)])\n",
    "    print(fill(output, 60))"
   ]
  },
  {
   "cell_type": "code",
   "execution_count": 80,
   "metadata": {},
   "outputs": [],
   "source": [
    "def redblueParse():\n",
    "    def flatten_subtree(st):\n",
    "        return ''.join([w.text_with_ws for w in list(st)]).strip()\n",
    "    words = [w for w in list(redbluedoc) if w.is_alpha]\n",
    "    subjectsredblue = [flatten_subtree(word.subtree).replace(\"\\n\", \" \")\n",
    "        for word in redbluedoc if word.dep_ in ('nsubj', 'nsubjpass')]\n",
    "    past_tense_verbsredblue = [word.text for word in words if word.tag_ == 'VBD' and word.lemma_ != 'be']\n",
    "    adjectivesredblue = [word.text for word in words if word.tag_.startswith('JJ')]\n",
    "    nounsredblue = [word.text for word in words if word.tag_.startswith('NN')]\n",
    "    prep_phrasesredblue = [flatten_subtree(word.subtree).replace(\"\\n\", \" \")\n",
    "        for word in redbluedoc if word.dep_ == 'prep']\n",
    "    rulesredblue = {\n",
    "    \"origin\": [\n",
    "        \"#subject.capitalize# #predicate#.\",\n",
    "        \"#subject.capitalize# #predicate#.\",\n",
    "        \"#prepphrase.capitalize#, #subject# #predicate#.\"\n",
    "    ],\n",
    "    \"predicate\": [\n",
    "        \"#verb#\",\n",
    "        \"#verb# #nounphrase#\",\n",
    "        \"#verb# #prepphrase#\"\n",
    "    ],\n",
    "    \"nounphrase\": [\n",
    "        \"the #noun#\",\n",
    "        \"the #adj# #noun#\",\n",
    "        \"the #noun# #prepphrase#\",\n",
    "        \"the #noun# and the #noun#\",\n",
    "        \"#noun.a#\",\n",
    "        \"#adj.a# #noun#\",\n",
    "        \"the #noun# that #predicate#\"\n",
    "    ],\n",
    "    \"subject\": subjectsredblue,\n",
    "    \"verb\": past_tense_verbsredblue,\n",
    "    \"noun\": nounsredblue,\n",
    "    \"adj\": adjectivesredblue,\n",
    "    \"prepphrase\": prep_phrasesredblue\n",
    "    }\n",
    "    grammarredblue = tracery.Grammar(rulesredblue)\n",
    "    grammarredblue.add_modifiers(base_english)\n",
    "    grammarredblue.flatten(\"#origin#\")\n",
    "    \n",
    "    from textwrap import fill\n",
    "    output = \" \".join([grammarredblue.flatten(\"#origin#\") for i in range(12)])\n",
    "    print(fill(output, 60))"
   ]
  },
  {
   "cell_type": "code",
   "execution_count": 81,
   "metadata": {},
   "outputs": [],
   "source": [
    "def redgreenParse():\n",
    "    def flatten_subtree(st):\n",
    "        return ''.join([w.text_with_ws for w in list(st)]).strip()\n",
    "    words = [w for w in list(redgreendoc) if w.is_alpha]\n",
    "    subjectsredgreen = [flatten_subtree(word.subtree).replace(\"\\n\", \" \")\n",
    "        for word in redgreendoc if word.dep_ in ('nsubj', 'nsubjpass')]\n",
    "    past_tense_verbsredgreen = [word.text for word in words if word.tag_ == 'VBD' and word.lemma_ != 'be']\n",
    "    adjectivesredgreen = [word.text for word in words if word.tag_.startswith('JJ')]\n",
    "    nounsredgreen = [word.text for word in words if word.tag_.startswith('NN')]\n",
    "    prep_phrasesredgreen = [flatten_subtree(word.subtree).replace(\"\\n\", \" \")\n",
    "        for word in redgreendoc if word.dep_ == 'prep']\n",
    "    rulesredgreen = {\n",
    "    \"origin\": [\n",
    "        \"#subject.capitalize# #predicate#.\",\n",
    "        \"#subject.capitalize# #predicate#.\",\n",
    "        \"#prepphrase.capitalize#, #subject# #predicate#.\"\n",
    "    ],\n",
    "    \"predicate\": [\n",
    "        \"#verb#\",\n",
    "        \"#verb# #nounphrase#\",\n",
    "        \"#verb# #prepphrase#\"\n",
    "    ],\n",
    "    \"nounphrase\": [\n",
    "        \"the #noun#\",\n",
    "        \"the #adj# #noun#\",\n",
    "        \"the #noun# #prepphrase#\",\n",
    "        \"the #noun# and the #noun#\",\n",
    "        \"#noun.a#\",\n",
    "        \"#adj.a# #noun#\",\n",
    "        \"the #noun# that #predicate#\"\n",
    "    ],\n",
    "    \"subject\": subjectsredgreen,\n",
    "    \"verb\": past_tense_verbsredgreen,\n",
    "    \"noun\": nounsredgreen,\n",
    "    \"adj\": adjectivesredgreen,\n",
    "    \"prepphrase\": prep_phrasesredgreen\n",
    "    }\n",
    "    grammarredgreen = tracery.Grammar(rulesredgreen)\n",
    "    grammarredgreen.add_modifiers(base_english)\n",
    "    grammarredgreen.flatten(\"#origin#\")\n",
    "    \n",
    "    from textwrap import fill\n",
    "    output = \" \".join([grammarredgreen.flatten(\"#origin#\") for i in range(12)])\n",
    "    print(fill(output, 60))"
   ]
  },
  {
   "cell_type": "code",
   "execution_count": 82,
   "metadata": {},
   "outputs": [],
   "source": [
    "def greenblueParse():\n",
    "    def flatten_subtree(st):\n",
    "        return ''.join([w.text_with_ws for w in list(st)]).strip()\n",
    "    words = [w for w in list(greenbluedoc) if w.is_alpha]\n",
    "    subjectsgreenblue = [flatten_subtree(word.subtree).replace(\"\\n\", \" \")\n",
    "        for word in greenbluedoc if word.dep_ in ('nsubj', 'nsubjpass')]\n",
    "    past_tense_verbsgreenblue = [word.text for word in words if word.tag_ == 'VBD' and word.lemma_ != 'be']\n",
    "    adjectivesgreenblue = [word.text for word in words if word.tag_.startswith('JJ')]\n",
    "    nounsgreenblue = [word.text for word in words if word.tag_.startswith('NN')]\n",
    "    prep_phrasesgreenblue = [flatten_subtree(word.subtree).replace(\"\\n\", \" \")\n",
    "        for word in greenbluedoc if word.dep_ == 'prep']\n",
    "    rulesgreenblue = {\n",
    "    \"origin\": [\n",
    "        \"#subject.capitalize# #predicate#.\",\n",
    "        \"#subject.capitalize# #predicate#.\",\n",
    "        \"#prepphrase.capitalize#, #subject# #predicate#.\"\n",
    "    ],\n",
    "    \"predicate\": [\n",
    "        \"#verb#\",\n",
    "        \"#verb# #nounphrase#\",\n",
    "        \"#verb# #prepphrase#\"\n",
    "    ],\n",
    "    \"nounphrase\": [\n",
    "        \"the #noun#\",\n",
    "        \"the #adj# #noun#\",\n",
    "        \"the #noun# #prepphrase#\",\n",
    "        \"the #noun# and the #noun#\",\n",
    "        \"#noun.a#\",\n",
    "        \"#adj.a# #noun#\",\n",
    "        \"the #noun# that #predicate#\"\n",
    "    ],\n",
    "    \"subject\": subjectsgreenblue,\n",
    "    \"verb\": past_tense_verbsgreenblue,\n",
    "    \"noun\": nounsgreenblue,\n",
    "    \"adj\": adjectivesgreenblue,\n",
    "    \"prepphrase\": prep_phrasesgreenblue\n",
    "    }\n",
    "    grammargreenblue = tracery.Grammar(rulesgreenblue)\n",
    "    grammargreenblue.add_modifiers(base_english)\n",
    "    grammargreenblue.flatten(\"#origin#\")\n",
    "    \n",
    "    from textwrap import fill\n",
    "    output = \" \".join([grammargreenblue.flatten(\"#origin#\") for i in range(12)])\n",
    "    print(fill(output, 60))"
   ]
  },
  {
   "cell_type": "markdown",
   "metadata": {},
   "source": [
    "I realized I didn't have Tracery installed yet."
   ]
  },
  {
   "cell_type": "code",
   "execution_count": 24,
   "metadata": {},
   "outputs": [
    {
     "name": "stdout",
     "output_type": "stream",
     "text": [
      "Defaulting to user installation because normal site-packages is not writeable\n",
      "Requirement already satisfied: tracery in ./.local/lib/python3.8/site-packages (0.1.1)\n",
      "Note: you may need to restart the kernel to use updated packages.\n"
     ]
    }
   ],
   "source": [
    "pip install tracery"
   ]
  },
  {
   "cell_type": "code",
   "execution_count": 83,
   "metadata": {},
   "outputs": [],
   "source": [
    "import tracery\n",
    "from tracery.modifiers import base_english"
   ]
  },
  {
   "cell_type": "markdown",
   "metadata": {},
   "source": [
    "After finishing the functions for each color, I wanted to create a simple user-input that would ask the user which color they wanted to choose. This entire process is contained within the colorChoice function."
   ]
  },
  {
   "cell_type": "code",
   "execution_count": 84,
   "metadata": {},
   "outputs": [],
   "source": [
    "def colorChoice():\n",
    "    colorInput = input(\"Choose 'red', 'green', or 'blue'\")\n",
    "    colorPick = colorInput.lower()\n",
    "    while True:\n",
    "        if colorPick == \"red\":\n",
    "            redParse()\n",
    "            break\n",
    "        if colorPick == \"green\":\n",
    "            greenParse()\n",
    "            break\n",
    "        if colorPick == \"blue\":\n",
    "            blueParse()\n",
    "            break\n",
    "        if colorPick == \"redblue\" or \"bluered\":\n",
    "            redblueParse()\n",
    "            break\n",
    "        if colorPick == \"redgreen\" or \"greenred\":\n",
    "            redgreenParse()\n",
    "            break\n",
    "        if colorPick == \"greenblue\" or \"bluegreen\":\n",
    "            greenblueParse()\n",
    "            break\n",
    "        else:\n",
    "            print(\"Please choose 'red', 'green', or 'blue'\")\n",
    "        "
   ]
  },
  {
   "cell_type": "markdown",
   "metadata": {},
   "source": [
    "Time to test it out!"
   ]
  },
  {
   "cell_type": "code",
   "execution_count": 75,
   "metadata": {},
   "outputs": [
    {
     "name": "stdout",
     "output_type": "stream",
     "text": [
      "Choose 'red', 'green', or 'blue'blue\n",
      "Pain muffled. Against his palate fine, The first came the\n",
      "tears. For its poisonous wine, She knew. To me, The open\n",
      "casement faded of Proserpine. Kiss'd,  By nightshade, ruby\n",
      "grape of Proserpine, The morn knew. They had in your\n",
      "sorrow's mysteries. Of mine, They hung in an April shroud.\n",
      "Ripe had of Delight. My soul grew the soul and the cheek. My\n",
      "soul wanted. Ye grew the anger and the Shadows. Seen of none\n",
      "had.\n"
     ]
    }
   ],
   "source": [
    "colorChoice()"
   ]
  },
  {
   "cell_type": "code",
   "execution_count": 76,
   "metadata": {},
   "outputs": [
    {
     "name": "stdout",
     "output_type": "stream",
     "text": [
      "Choose 'red', 'green', or 'blue'green\n",
      "They both died the least presences. Who whispered as on my\n",
      "lap a child not to grow old but dwell on. It went the\n",
      "younger completions. It turned. On the stump of a child, I\n",
      "did an everybody. The birds turned of burn. They both kept.\n",
      "The flurry stopped as on my lap a child not to grow old but\n",
      "dwell on. Who astonished the mother that veered the grave\n",
      "and the days. The mishap veered. For for me, I turned the\n",
      "space and the child. I occurred of great.\n"
     ]
    }
   ],
   "source": [
    "colorChoice()"
   ]
  },
  {
   "cell_type": "code",
   "execution_count": 77,
   "metadata": {},
   "outputs": [
    {
     "name": "stdout",
     "output_type": "stream",
     "text": [
      "Choose 'red', 'green', or 'blue'red\n",
      "All did from a thousand thrones. That had. From out the\n",
      "lurid sea, No heavings did On seas. Winds trembled on high.\n",
      "That trembled Of sculptured ivy and stone. The waves had on\n",
      "the unquiet sky. Resignedly beneath the sky, up spires- up\n",
      "kingly did on high. Hath had from a thousand thrones. Of\n",
      "sculptured ivy and stone, they trembled. That had the town\n",
      "with lyre. Up the turrets, no ripples trembled within the\n",
      "filmy Heaven. Within the dim West, it Taught the Yawn and\n",
      "the level.\n"
     ]
    }
   ],
   "source": [
    "colorChoice()"
   ]
  },
  {
   "cell_type": "markdown",
   "metadata": {},
   "source": [
    "It seemed that the outputs were quite abstract. However, given the content of the selected poems, I could faintly make out the small differences between the outputs of each color. I decided to tweak the values of the output functions above to see if I could get some interesting results."
   ]
  },
  {
   "cell_type": "code",
   "execution_count": 27,
   "metadata": {},
   "outputs": [
    {
     "name": "stdout",
     "output_type": "stream",
     "text": [
      "Choose 'red', 'green', or 'blue'red\n",
      "The hours did the heart in the wild wood. Up spires- up kingly forgot While from\n",
      "a proud tower in the town. To me, it had With tumult as they thunder by. With a\n",
      "most knowing eye, they did With tumult as they thunder by. From a thousand\n",
      "thrones, that did. That forgot. A stir Taught. I forgot a tops. To me, they had.\n",
      "Lo did the time. That Taught the town and the Condor. To while away—forbidden\n",
      "things, The melancholy waters forgot the shrine. The melancholy waters forgot a\n",
      "best strings. The good and the bad and the worst and the best had.\n"
     ]
    }
   ],
   "source": [
    "colorChoice()"
   ]
  },
  {
   "cell_type": "code",
   "execution_count": 28,
   "metadata": {},
   "outputs": [
    {
     "name": "stdout",
     "output_type": "stream",
     "text": [
      "Choose 'red', 'green', or 'blue'blue\n",
      "The first seen shades wanted of Delight. His soul shalt besprinkled. The second\n",
      "wanted an open beams. The second besprinkled deep upon her peerless eyes. To me,\n",
      "they came of all. Melancholy came in the flowery grass. They hung. It muffled. I\n",
      "came. Behind the other stepp’d, I muffled. The morn knew a moment. Melancholy\n",
      "came At least for me,—so sweet as drowsy noons,  And evenings. Of her might,\n",
      "They came. They came.\n"
     ]
    }
   ],
   "source": [
    "colorChoice()"
   ]
  },
  {
   "cell_type": "markdown",
   "metadata": {},
   "source": [
    "The changes resulted in negligible differences, so I decided to just keep the values similar to the ones in the tutorial, since the text length was also visually appealing. "
   ]
  },
  {
   "cell_type": "code",
   "execution_count": 42,
   "metadata": {},
   "outputs": [
    {
     "name": "stdout",
     "output_type": "stream",
     "text": [
      "Choose 'red', 'green', or 'blue'green\n",
      "They turned. What had for for me. Who had. Like a pregnancy\n",
      "or, the mishap came a bitter horrors. That occurred the bird\n",
      "that circled to the barren air that holds the world that was\n",
      "my world. Others close, close as burrowing under skin, all\n",
      "in the graveyard kept the place. To routes, it kept the\n",
      "birds. As of great, I circled. Into, the incompletions (&\n",
      "completions) astonished the walk and the world. In their\n",
      "pocketbooks, the birds whispered to routes. It had for me.\n",
      "From, the birds went a little attention.\n"
     ]
    }
   ],
   "source": [
    "colorChoice()"
   ]
  },
  {
   "cell_type": "markdown",
   "metadata": {},
   "source": [
    "I also wanted to test out the mixed-colors capabilities as well."
   ]
  },
  {
   "cell_type": "code",
   "execution_count": 64,
   "metadata": {},
   "outputs": [
    {
     "name": "stdout",
     "output_type": "stream",
     "text": [
      "Choose 'red', 'green', or 'blue'redblue\n",
      "The melancholy waters forgot a wing. Who had. No heavings\n",
      "had a familiar turrets. In the wild wood, Death had the sky\n",
      "with the luminous waves. The good and the bad and the worst\n",
      "and the best did the thrones. All did. All forgot the\n",
      "diamond. They forgot. The towers trembled beneath the sky.\n",
      "No rays from the holy heaven had of that town. Death did the\n",
      "wilderness to their eternal rest. That had In slightly\n",
      "sinking.\n"
     ]
    }
   ],
   "source": [
    "colorChoice()"
   ]
  },
  {
   "cell_type": "code",
   "execution_count": 65,
   "metadata": {},
   "outputs": [
    {
     "name": "stdout",
     "output_type": "stream",
     "text": [
      "Choose 'red', 'green', or 'blue'bluered\n",
      "The hours trembled. No ripples trembled with the strings.\n",
      "Death had the Time On seas. A stir forgot a paroquet. Hath\n",
      "Taught. All trembled the diamond and the stone. Death\n",
      "forgot. It forgot with calmer wings. Upon my spirit flings,\n",
      "I forgot the strings and the rest. The melancholy waters did\n",
      "with a most knowing eye. No rays from the holy heaven did\n",
      "While from a proud tower in the town. The hours had in the\n",
      "town.\n"
     ]
    }
   ],
   "source": [
    "colorChoice()"
   ]
  },
  {
   "cell_type": "code",
   "execution_count": 85,
   "metadata": {},
   "outputs": [
    {
     "name": "stdout",
     "output_type": "stream",
     "text": [
      "Choose 'red', 'green', or 'blue'greenred\n",
      "In slightly sinking, Death trembled With tumult as they\n",
      "thunder by. In the air, My heart trembled. In the wild wood,\n",
      "The melancholy waters trembled Of sculptured ivy and stone.\n",
      "All had the viol that had the waters that had within the dim\n",
      "West. The towers Taught the eye. Death forgot the city on\n",
      "the unquiet sky. That town had the late hours. I had. Among\n",
      "the green leaves as they shake  Far down within some shadowy\n",
      "lake,  To me a painted paroquet, No heavings forgot with the\n",
      "strings. Light from out the lurid sea had up the turrets. Of\n",
      "that town, they trembled. On the unquiet sky, Hath trembled\n",
      "from a thousand thrones.\n"
     ]
    }
   ],
   "source": [
    "colorChoice()"
   ]
  },
  {
   "cell_type": "code",
   "execution_count": 86,
   "metadata": {},
   "outputs": [
    {
     "name": "stdout",
     "output_type": "stream",
     "text": [
      "Choose 'red', 'green', or 'blue'bluegreen\n",
      "I did. The melancholy waters had. The hours Taught from\n",
      "their bed. No swellings trembled. Resignedly beneath the\n",
      "sky, the towers had the many hours. In air, That had. The\n",
      "melancholy waters had a faint tops. That town Taught. Within\n",
      "some shadowy lake, the good and the bad and the worst and\n",
      "the best had the green waters. The melancholy waters forgot\n",
      "up the turrets. With the luminous waves, who did. No\n",
      "heavings forgot the proud Time.\n"
     ]
    }
   ],
   "source": [
    "colorChoice()"
   ]
  },
  {
   "cell_type": "markdown",
   "metadata": {},
   "source": [
    "It was very interesting to see the mixed-colors results. It seemed that in some instances, the emotions really were mixed together, such as the \"greenred; peaceful/lust\" combination, which contained phrases such as \"In the wild wood\", and \"my heart trembled\"."
   ]
  },
  {
   "cell_type": "code",
   "execution_count": null,
   "metadata": {},
   "outputs": [],
   "source": []
  }
 ],
 "metadata": {
  "kernelspec": {
   "display_name": "Python 3",
   "language": "python",
   "name": "python3"
  },
  "language_info": {
   "codemirror_mode": {
    "name": "ipython",
    "version": 3
   },
   "file_extension": ".py",
   "mimetype": "text/x-python",
   "name": "python",
   "nbconvert_exporter": "python",
   "pygments_lexer": "ipython3",
   "version": "3.8.3"
  }
 },
 "nbformat": 4,
 "nbformat_minor": 4
}
